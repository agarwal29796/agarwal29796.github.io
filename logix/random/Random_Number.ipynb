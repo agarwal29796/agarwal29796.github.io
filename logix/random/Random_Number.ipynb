{
  "nbformat": 4,
  "nbformat_minor": 0,
  "metadata": {
    "colab": {
      "name": "Random_Number.ipynb",
      "provenance": [],
      "collapsed_sections": []
    },
    "kernelspec": {
      "name": "python3",
      "display_name": "Python 3"
    },
    "language_info": {
      "name": "python"
    }
  },
  "cells": [
    {
      "cell_type": "markdown",
      "metadata": {
        "id": "7hjm0UlOT8wx"
      },
      "source": [
        "# WALK INTO RANDOM NUMBERS\n",
        "## 1. Generating a random number"
      ]
    },
    {
      "cell_type": "markdown",
      "metadata": {
        "id": "g4q1ePLyTWlQ"
      },
      "source": [
        "So what exactly do we mean by generating a random number ? a number whose generation is as reasonable as random chance, which basically means we dont see any pattern in generation but it does not mean that there can't exists a pattern in hindsight.In practice we see two kind of random numbers generators :\n",
        "1. True Random Number generator : These uses some phyiscal phenomenon which is expected to be random, for example atmospheric noise, thermal noise etc. Mostly hardware based random numbr generator works on this principle.\n",
        "2. Pseudo Random Number generator : generated numbers by this method only looks random but are in fact pre-determined. Software generated random number are basically PRNs.These use a initial value know as seed to generate a long sequence of random numbers.As a result, the entirely seemingly random sequence can be reproduce if seed value is known.\n",
        "one of most common PRN is the linear congruential generator, \n",
        "$$X_{n+1} = (a X_n + b)\\, \\textrm{mod}\\, m $$\n",
        "where a, b and m are large integers, and ${\\displaystyle X_{n+1}}$ is the next in X as a series of pseudorandom numbers. The maximum number of numbers the formula can produce is one less than the modulus, m-1. $X_0$ is the seed value we feed to this sequence. \n",
        "PRNGs are periodic, which means that the sequence will eventually repeat itself. While periodicity is hardly ever a desirable characteristic, modern PRNGs have a period that is so long that it can be ignored for most practical purposes.\n",
        "\n",
        "\n",
        "\n"
      ]
    },
    {
      "cell_type": "markdown",
      "metadata": {
        "id": "TFmaYpqwfkL0"
      },
      "source": [
        "#### Now let us programm a PRNG :"
      ]
    },
    {
      "cell_type": "code",
      "metadata": {
        "id": "OVZh7DAXJDw7"
      },
      "source": [
        "import time\n",
        "import matplotlib.pyplot as plt\n",
        "class prandom():\n",
        "  def __init__(self , mul_fac = 2345, add_fac = 3245, mod_fac = 2733879):\n",
        "    self._seed = 1000*time.time()\n",
        "    self.X = self._seed\n",
        "    self.mul_fac = mul_fac\n",
        "    self.add_fac = add_fac\n",
        "    self.mod_fac = mod_fac\n",
        "  \n",
        "  def seed(self, value):\n",
        "    self._seed = values\n",
        "    self.X = value \n",
        "  \n",
        "  def random(self):\n",
        "    # return uniform random from [0 ,1)\n",
        "    self.X = (self.mul_fac*self.X + self.add_fac)%(self.mod_fac) \n",
        "    return self.X/self.mod_fac\n",
        "  \n",
        "  def uniform(self, low = 0 , high = 1):\n",
        "    #return uniform float from [low, high)\n",
        "    return low + (high - low)*self.random()\n",
        "    \n",
        "  def randomInt(self, low = 0 , high = 100):\n",
        "    # return uniform int from [low, high]\n",
        "    return round(self.uniform(low = low-0.5 , high = high + 0.5))"
      ],
      "execution_count": null,
      "outputs": []
    },
    {
      "cell_type": "markdown",
      "metadata": {
        "id": "wyw4UOjsg8wI"
      },
      "source": [
        "Lets understand above steps,  \n",
        "Looking at random function gives a clear look that its a congurence generators. and division by mod_fac while returning converge range into [0, 1)\n",
        "seed functions basically sets initial X value.        \n",
        "\n",
        "As we said earlier PSR generators are only random in forsight but actually there exists a pattern.now lets look into it in more details:   "
      ]
    },
    {
      "cell_type": "markdown",
      "metadata": {
        "id": "rURHNp07g8oO"
      },
      "source": [
        "Lets look into few experiment where we generate 1000 random number with different mod values.  "
      ]
    },
    {
      "cell_type": "code",
      "metadata": {
        "colab": {
          "base_uri": "https://localhost:8080/",
          "height": 372
        },
        "id": "HmlAVbMhFiIX",
        "outputId": "875f426d-4a19-4425-a32c-9d70c38e5555"
      },
      "source": [
        "plt.rcParams[\"figure.figsize\"] = (5,5)\n",
        "\n",
        "pr = prandom(mod_fac=10)\n",
        "ls = [pr.random() for _ in range(1000)]\n",
        "plt.hist(ls)"
      ],
      "execution_count": null,
      "outputs": [
        {
          "output_type": "execute_result",
          "data": {
            "text/plain": [
              "(array([500.,   0.,   0.,   0.,   0.,   0.,   0., 499.,   0.,   1.]),\n",
              " array([0.25, 0.32, 0.39, 0.46, 0.53, 0.6 , 0.67, 0.74, 0.81, 0.88, 0.95]),\n",
              " <a list of 10 Patch objects>)"
            ]
          },
          "metadata": {},
          "execution_count": 4
        },
        {
          "output_type": "display_data",
          "data": {
            "image/png": "[encoded data removed]",
            "text/plain": [
              "<Figure size 360x360 with 1 Axes>"
            ]
          },
          "metadata": {
            "needs_background": "light"
          }
        }
      ]
    },
    {
      "cell_type": "code",
      "metadata": {
        "colab": {
          "base_uri": "https://localhost:8080/",
          "height": 389
        },
        "id": "dzra2hWeGJEb",
        "outputId": "8c2b938c-d9d8-4842-f027-2382e16053f3"
      },
      "source": [
        "pr = prandom(mod_fac=100)\n",
        "ls = [pr.random() for _ in range(1000)]\n",
        "plt.hist(ls)"
      ],
      "execution_count": null,
      "outputs": [
        {
          "output_type": "execute_result",
          "data": {
            "text/plain": [
              "(array([249.,   1.,   1., 250.,   0.,   0., 250.,   0.,   0., 249.]),\n",
              " array([0.075, 0.15 , 0.225, 0.3  , 0.375, 0.45 , 0.525, 0.6  , 0.675,\n",
              "        0.75 , 0.825]),\n",
              " <a list of 10 Patch objects>)"
            ]
          },
          "metadata": {},
          "execution_count": 5
        },
        {
          "output_type": "display_data",
          "data": {
            "image/png": "[encoded data removed]",
            "text/plain": [
              "<Figure size 360x360 with 1 Axes>"
            ]
          },
          "metadata": {
            "needs_background": "light"
          }
        }
      ]
    },
    {
      "cell_type": "code",
      "metadata": {
        "colab": {
          "base_uri": "https://localhost:8080/",
          "height": 409
        },
        "id": "rht51edBGVNe",
        "outputId": "d60af9df-f57e-4e6a-95e2-f8d4683e632e"
      },
      "source": [
        "pr = prandom(mod_fac=1111)\n",
        "ls = [pr.random() for _ in range(1000)]\n",
        "plt.hist(ls)"
      ],
      "execution_count": null,
      "outputs": [
        {
          "output_type": "execute_result",
          "data": {
            "text/plain": [
              "(array([240., 160.,  60.,  40.,  60., 120., 160.,  60.,  40.,  60.]),\n",
              " array([0.01665167, 0.11188119, 0.20711071, 0.30234023, 0.39756976,\n",
              "        0.49279928, 0.5880288 , 0.68325833, 0.77848785, 0.87371737,\n",
              "        0.96894689]),\n",
              " <a list of 10 Patch objects>)"
            ]
          },
          "metadata": {},
          "execution_count": 6
        },
        {
          "output_type": "display_data",
          "data": {
            "image/png": "[encoded data removed]",
            "text/plain": [
              "<Figure size 360x360 with 1 Axes>"
            ]
          },
          "metadata": {
            "needs_background": "light"
          }
        }
      ]
    },
    {
      "cell_type": "code",
      "metadata": {
        "colab": {
          "base_uri": "https://localhost:8080/",
          "height": 407
        },
        "id": "sL5Kdi7jT4bu",
        "outputId": "5cc86b1e-6927-43de-d2cc-ddd5ea126a65"
      },
      "source": [
        "pr = prandom(mod_fac=2222222)\n",
        "ls = [pr.random() for _ in range(1000)]\n",
        "plt.hist(ls)"
      ],
      "execution_count": null,
      "outputs": [
        {
          "output_type": "execute_result",
          "data": {
            "text/plain": [
              "(array([ 95.,  95., 125., 117., 110.,  89.,  90.,  80.,  89., 110.]),\n",
              " array([8.40150084e-04, 1.00711810e-01, 2.00583470e-01, 3.00455130e-01,\n",
              "        4.00326790e-01, 5.00198450e-01, 6.00070110e-01, 6.99941770e-01,\n",
              "        7.99813430e-01, 8.99685090e-01, 9.99556750e-01]),\n",
              " <a list of 10 Patch objects>)"
            ]
          },
          "metadata": {},
          "execution_count": 7
        },
        {
          "output_type": "display_data",
          "data": {
            "image/png": "[encoded data removed]",
            "text/plain": [
              "<Figure size 360x360 with 1 Axes>"
            ]
          },
          "metadata": {
            "needs_background": "light"
          }
        }
      ]
    },
    {
      "cell_type": "markdown",
      "metadata": {
        "id": "wLtyrK1JjVti"
      },
      "source": [
        "Form graphs we can observe that smaller values of mod_fac, more likely we can observe that generated random numbers are following a pattern. But we want to generated number to be as random as possible, hence keeping a sufficiently large mod_fac is necessary.Also we can observe the with larger mod_fac values generated numbers are close to uniform distribution. Point to note here generating a number from uniform distrbution does not make it non random number.Randomness is defined by the fact when we cant observe a pattern to predict next number."
      ]
    },
    {
      "cell_type": "markdown",
      "metadata": {
        "id": "dkEUeEXxl9Z7"
      },
      "source": [
        "Lets look certain property we can design from our random generator.   \n",
        "1. Uniform() generator function :\n",
        "2. Radom integer generator() :   \n",
        "3. "
      ]
    },
    {
      "cell_type": "markdown",
      "metadata": {
        "id": "sCpPio7cbZwq"
      },
      "source": [
        "## Generating uniformly distributed sample from a rectangle"
      ]
    },
    {
      "cell_type": "code",
      "metadata": {
        "id": "MYxAhpGVGcTC"
      },
      "source": [
        "pr = prandom()\n",
        "X = [pr.uniform() for _ in range(300)]\n",
        "Y = [pr.uniform() for _ in range(300)]"
      ],
      "execution_count": null,
      "outputs": []
    },
    {
      "cell_type": "code",
      "metadata": {
        "colab": {
          "base_uri": "https://localhost:8080/",
          "height": 337
        },
        "id": "wa0hiYCtYP9A",
        "outputId": "2339aded-9a88-49dc-d7cd-a8d392246b14"
      },
      "source": [
        "plt.scatter(X, Y)"
      ],
      "execution_count": null,
      "outputs": [
        {
          "output_type": "execute_result",
          "data": {
            "text/plain": [
              "<matplotlib.collections.PathCollection at 0x7f28f62a0590>"
            ]
          },
          "metadata": {},
          "execution_count": 9
        },
        {
          "output_type": "display_data",
          "data": {
            "image/png": "[encoded data removed]",
            "text/plain": [
              "<Figure size 360x360 with 1 Axes>"
            ]
          },
          "metadata": {
            "needs_background": "light"
          }
        }
      ]
    },
    {
      "cell_type": "markdown",
      "metadata": {
        "id": "SesijkdcbOVs"
      },
      "source": [
        "# Generating uniformly distributed samples from a circle"
      ]
    },
    {
      "cell_type": "code",
      "metadata": {
        "id": "y-YjSWPDZZNj"
      },
      "source": [
        "import math\n",
        "import matplotlib.pyplot as plt\n",
        "pr = prandom()\n",
        "def uniform_circle(radius = 1):\n",
        "  x = pr.uniform(low = -1, high = 1)\n",
        "  y = pr.uniform(low = -1, high = 1)\n",
        "  if x*x + y*y <= 1 : return (x, y)\n",
        "  return uniform_circle(radius = radius)\n",
        "\n",
        "def uniform_circle1(radius = 1):\n",
        "  r = math.sqrt(pr.uniform(low = 0, high = 1))\n",
        "  theta = pr.uniform(low = 0, high = 360 )\n",
        "  return r*math.cos(theta), r*math.sin(theta)\n"
      ],
      "execution_count": null,
      "outputs": []
    },
    {
      "cell_type": "code",
      "metadata": {
        "colab": {
          "base_uri": "https://localhost:8080/",
          "height": 337
        },
        "id": "E74asu1Xcr7h",
        "outputId": "1624b719-c52a-4260-abd4-78679e119e8d"
      },
      "source": [
        "circle_points = [uniform_circle1() for _ in range(500)]\n",
        "X = [circle_points[i][0] for i in range(500)]\n",
        "Y = [circle_points[i][1] for i in range(500)]\n",
        "plt.rcParams[\"figure.figsize\"] = (5,5)\n",
        "plt.scatter(X, Y)"
      ],
      "execution_count": null,
      "outputs": [
        {
          "output_type": "execute_result",
          "data": {
            "text/plain": [
              "<matplotlib.collections.PathCollection at 0x7f28f5ce2310>"
            ]
          },
          "metadata": {},
          "execution_count": 13
        },
        {
          "output_type": "display_data",
          "data": {
            "image/png": "[encoded data removed]",
            "text/plain": [
              "<Figure size 360x360 with 1 Axes>"
            ]
          },
          "metadata": {
            "needs_background": "light"
          }
        }
      ]
    },
    {
      "cell_type": "code",
      "metadata": {
        "id": "4rxiJaHee0g0"
      },
      "source": [
        ""
      ],
      "execution_count": null,
      "outputs": []
    },
    {
      "cell_type": "markdown",
      "metadata": {
        "id": "Cg6-ws9CQA4v"
      },
      "source": [
        "$$probOfSuccess = circleaArea/squareArea=\\pi/4 = 0.78$$\n",
        "$$probOfSuccessIn2Attempts = 1 - 0.22*0.22 = 0.95$$"
      ]
    },
    {
      "cell_type": "code",
      "metadata": {
        "id": "a-OVuMZsQQWP"
      },
      "source": [
        "\n",
        "\n",
        " "
      ],
      "execution_count": null,
      "outputs": []
    },
    {
      "cell_type": "markdown",
      "metadata": {
        "id": "AKcerIZ59xKe"
      },
      "source": [
        "generating theta : points are evenly distributed around the circle .\n",
        "r ? \n",
        "current selection : each r inside circle will have on average same number of points .  \n",
        "as circumference of ring grows , number of points remains constant.\n",
        "resulting in outre radii have lower density then inner ones. \n",
        "\n",
        "probability density function : How likely it is for a given random variable x to fall inside a given interval\n",
        "\n",
        "currently pdf is a straight line which does not work, now lets figure out how should it look like ? \n",
        "\n",
        "circum frenece grows linearly with radius , number of points should also grow linearly  with radius, to keep density in the circle constant. \n",
        "\n",
        "new pdf fx =  mr , m = ?\n",
        "P(0<= X < 1) =  1\n",
        " area under curve  = 1 =>  m = 2\n",
        " \n",
        " How to modify function ?   \n",
        " CDF : F(r)  = P (X <= r)  \n",
        " F_x(r) = r*r = P(X <= r)\n",
        "\n",
        "Question is we have a function generating values uniformly, how to modify the generated value to suit our needs.?\n",
        "\n",
        "\n",
        "\n"
      ]
    },
    {
      "cell_type": "code",
      "metadata": {
        "id": "BOXe_QjlMaD2"
      },
      "source": [
        ""
      ],
      "execution_count": null,
      "outputs": []
    }
  ]
}